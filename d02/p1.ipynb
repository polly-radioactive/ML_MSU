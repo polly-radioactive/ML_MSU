{
 "cells": [
  {
   "cell_type": "code",
   "execution_count": null,
   "metadata": {},
   "outputs": [],
   "source": [
    "from sklearn.linear_model import LogisticRegression\n",
    "from sklearn.datasets import load_breast_cancer\n",
    "from sklearn.model_selection import train_test_split\n",
    "from sklearn.preprocessing import StandardScaler\n",
    "\n",
    "# Загрузка датасета\n",
    "X, y = load_breast_cancer(return_X_y=True)\n",
    "\n",
    "# Разбиение датасета на train и test\n",
    "X_train, x_test, y_train, y_test = train_test_split(X, y, test_size=0.3, random_state=42)\n",
    "\n",
    "# Задание классификатора и его обучение\n",
    "clf = LogisticRegression()\n",
    "\n",
    "# Предобработка датасета при помощи StandardScaler\n",
    "sc = StandardScaler()\n",
    "X_train = sc.fit_transform(X_train)\n",
    "x_test = sc.transform(x_test)\n",
    "\n",
    "# Обучеение модели\n",
    "\n",
    "clf.fit(X_train, y_train)\n",
    "\n",
    "# Оценка качества получившегося решения\n",
    "clf.score(x_test, y_test)"
   ]
  }
 ],
 "metadata": {
  "kernelspec": {
   "display_name": "base",
   "language": "python",
   "name": "python3"
  },
  "language_info": {
   "codemirror_mode": {
    "name": "ipython",
    "version": 3
   },
   "file_extension": ".py",
   "mimetype": "text/x-python",
   "name": "python",
   "nbconvert_exporter": "python",
   "pygments_lexer": "ipython3",
   "version": "3.10.10"
  }
 },
 "nbformat": 4,
 "nbformat_minor": 2
}

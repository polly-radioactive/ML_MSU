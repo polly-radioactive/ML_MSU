{
 "cells": [
  {
   "cell_type": "code",
   "execution_count": null,
   "metadata": {},
   "outputs": [],
   "source": [
    "import numpy as np\n",
    "\n",
    "\n",
    "class KNN_classifier:\n",
    "    def __init__(self, k):\n",
    "        self.k = k\n",
    "        self.X_train = None\n",
    "        self.y_train = None\n",
    "\n",
    "    def fit(self, x: np.array, y: np.array):\n",
    "        self.X_train = x\n",
    "        self.y_train = y\n",
    "\n",
    "    def predict(self, x: np.array):\n",
    "        predictions = []\n",
    "        for i in range(x.shape[0]):\n",
    "            distances = []\n",
    "            for j in range(self.X_train.shape[0]):\n",
    "                distance = self._euclidean_distance(x[i], self.X_train[j])\n",
    "                distances.append((distance, self.y_train[j]))\n",
    "            distances.sort(key=lambda x: x[0])\n",
    "            neighbors = distances[:self.k]\n",
    "            counts = {}\n",
    "            for neighbor in neighbors:\n",
    "                label = neighbor[1]\n",
    "                if label in counts:\n",
    "                    counts[label] += 1\n",
    "                else:\n",
    "                    counts[label] = 1\n",
    "            prediction = max(counts, key=counts.get)\n",
    "            predictions.append(prediction)\n",
    "        return predictions\n",
    "\n",
    "    def _euclidean_distance(self, x1, x2):\n",
    "        return np.sqrt(np.sum((x1 - x2) ** 2))"
   ]
  }
 ],
 "metadata": {
  "language_info": {
   "name": "python"
  }
 },
 "nbformat": 4,
 "nbformat_minor": 2
}

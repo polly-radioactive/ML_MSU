{
 "cells": [
  {
   "cell_type": "code",
   "execution_count": null,
   "metadata": {},
   "outputs": [],
   "source": [
    "import sklearn\n",
    "import numpy as np\n",
    "from sklearn.metrics import accuracy_score\n",
    "from sklearn.model_selection import cross_val_score\n",
    "from sklearn.neighbors import KNeighborsClassifier\n",
    "\n",
    "random_seed = 4238\n",
    "\n",
    "np.random.seed(random_seed)\n",
    "n_splits = 3\n",
    "\n",
    "from sklearn.datasets import load_breast_cancer\n",
    "\n",
    "X, y = load_breast_cancer(return_X_y=True)\n",
    "\n",
    "\"\"\"\n",
    "  Здесь Вам предлагается написать тело цикла для подбора оптимального K\n",
    "  Результаты оценки алгоритма при каждом отдельно взятом K рекомендуем записывать в список cv_scores\n",
    "\"\"\"\n",
    "cv_scores = []\n",
    "\n",
    "for k in range(1, 51):\n",
    "    clf = KNeighborsClassifier(n_neighbors=k)\n",
    "    score = cross_val_score(clf, X, y, cv=n_splits)\n",
    "    cv_scores.append(np.mean(score))\n",
    "    pass\n",
    "\n",
    "\n",
    "print(np.argmax(cv_scores))"
   ]
  }
 ],
 "metadata": {
  "language_info": {
   "name": "python"
  }
 },
 "nbformat": 4,
 "nbformat_minor": 2
}

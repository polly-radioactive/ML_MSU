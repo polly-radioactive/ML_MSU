{
 "cells": [
  {
   "cell_type": "code",
   "execution_count": null,
   "metadata": {},
   "outputs": [],
   "source": [
    "import numpy as np\n",
    "\n",
    "np.random.seed(42)\n",
    "\n",
    "def gradient(y_true: int, y_pred: float, x: np.array) -> np.array:\n",
    "    grad1=[]\n",
    "    for i in range(len(x)):\n",
    "        grad1+=[x[i]*((1-y_true)*y_pred-y_true*(1-y_pred))]\n",
    "    grad = np.array(grad1)\n",
    "    pass\n",
    "    return grad\n",
    "\n",
    "def update(alpha: np.array, gradient: np.array, lr: float):\n",
    "    alpha_new = alpha-lr*gradient\n",
    "    return alpha_new\n",
    "\n",
    "def train(\n",
    "    alpha0: np.array, x_train: np.array, y_train: np.array, lr: float, num_epoch: int\n",
    "):\n",
    "    alpha = alpha0.copy()\n",
    "    for epo in range(num_epoch):\n",
    "        for i, x in enumerate(x_train):\n",
    "            x=np.array(list(x)+[1]) \n",
    "            y_pred=1/(1+(np.exp(-1*(np.dot(x, alpha)))))\n",
    "            g=gradient(y_train[i], y_pred, x)\n",
    "            alpha=update(alpha, g, lr)\n",
    "            pass\n",
    "    return alpha"
   ]
  }
 ],
 "metadata": {
  "language_info": {
   "name": "python"
  }
 },
 "nbformat": 4,
 "nbformat_minor": 2
}

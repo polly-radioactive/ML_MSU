{
 "cells": [
  {
   "cell_type": "code",
   "execution_count": null,
   "metadata": {},
   "outputs": [],
   "source": [
    "import numpy as np\n",
    "def sigmoid(z):\n",
    "    return 1 / (1 + np.exp(-z))\n",
    "\n",
    "def logistic_regression(X, y, num_iterations, learning_rate):\n",
    "    m = len(y)\n",
    "    n = X.shape[1]\n",
    "\n",
    "    # Инициализируем веса случайным образом\n",
    "    theta = np.random.randn(n)\n",
    "\n",
    "    for i in range(num_iterations):\n",
    "        # Подсчет линейной комбинации признаков\n",
    "        z = np.dot(X, theta)\n",
    "        # Применение функции sigmoid\n",
    "        h = sigmoid(z)\n",
    "\n",
    "        # Вычисление градиентов\n",
    "        gradient = np.dot(X.T, (h - y)) / m\n",
    "\n",
    "        # Обновление весов\n",
    "        theta -= learning_rate * gradient\n",
    "\n",
    "    return theta"
   ]
  },
  {
   "cell_type": "code",
   "execution_count": null,
   "metadata": {},
   "outputs": [],
   "source": [
    "X = np.array([[0, 0, 0],\n",
    "              [1, 0, 0],\n",
    "              [2, 0, 0]])\n",
    "y = np.array([0, 1, 0])\n",
    "\n",
    "num_iterations = 1000\n",
    "learning_rate = 0.01\n",
    "\n",
    "theta = logistic_regression(X, y, num_iterations, learning_rate)"
   ]
  },
  {
   "cell_type": "code",
   "execution_count": null,
   "metadata": {},
   "outputs": [],
   "source": [
    "def predict(X, theta):\n",
    "    z = np.dot(X, theta)\n",
    "    h = sigmoid(z)\n",
    "    return h"
   ]
  },
  {
   "cell_type": "code",
   "execution_count": null,
   "metadata": {},
   "outputs": [],
   "source": [
    "X_new = np.array([[10, 11, 12],\n",
    "                  [13, 14, 15]])\n",
    "\n",
    "predictions = predict(X, theta)"
   ]
  },
  {
   "cell_type": "code",
   "execution_count": null,
   "metadata": {},
   "outputs": [],
   "source": [
    "predictions\n",
    "2*(predictions[0]-1)**3"
   ]
  }
 ],
 "metadata": {
  "language_info": {
   "name": "python"
  }
 },
 "nbformat": 4,
 "nbformat_minor": 2
}
